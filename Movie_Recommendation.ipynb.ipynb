{
  "metadata": {
    "kernelspec": {
      "name": "python",
      "display_name": "Python (Pyodide)",
      "language": "python"
    },
    "language_info": {
      "codemirror_mode": {
        "name": "python",
        "version": 3
      },
      "file_extension": ".py",
      "mimetype": "text/x-python",
      "name": "python",
      "nbconvert_exporter": "python",
      "pygments_lexer": "ipython3",
      "version": "3.8"
    },
    "colab": {
      "provenance": [],
      "collapsed_sections": [
        "NjxACjUgFwsk",
        "AyeSaLpRGYuC",
        "fOXp00QSbtHk",
        "MIN3XqC0eUAu",
        "u_YceL18lWlN",
        "_ZE31gB7lImI",
        "Nuz1s-Vh_L55"
      ]
    }
  },
  "nbformat_minor": 4,
  "nbformat": 4,
  "cells": [
    {
      "cell_type": "markdown",
      "source": "# ITCS 6162: Data Mining - Programming Assignment - Marco Antonio Mercado",
      "metadata": {
        "id": "Hr7SGYEq69wv"
      }
    },
    {
      "cell_type": "markdown",
      "source": "**In this assignment, you will explore data analysis, recommendation algorithms, and graph-based techniques using the MovieLens dataset. Your tasks will range from basic data exploration to advanced recommendation models, including:**\n- Data manipulation with pandas\n- User-item collaborative filtering\n- Similarity-based recommendation models\n- A Pixie-inspired Graph-based recommendation using adjacency lists with weighted random walks (without using NetworkX)\n",
      "metadata": {
        "id": "L_idzFtE7M_9"
      }
    },
    {
      "cell_type": "markdown",
      "source": "#### **Dataset Files:**\n- **`u.data`**: User-movie ratings (`user_id  movie_id  rating  timestamp`)\n- **`u.item`**: Movie metadata (`movie_id | title | release date | IMDB_website`)\n- **`u.user`**: User demographics (`user_id | age | gender | occupation | zip_code`)",
      "metadata": {
        "id": "EZxjOF_l79zc"
      }
    },
    {
      "cell_type": "markdown",
      "source": "## **Part 1: Exploring and Cleaning Data**",
      "metadata": {
        "id": "ytr6isc2F9g6"
      }
    },
    {
      "cell_type": "markdown",
      "source": "### Inspecting the Dataset Format\n\nThe dataset is not in a traditional CSV format. To examine its structure, use the following shell command to display the first 10 lines of the file:\n\n```sh\n!head <file_name>\n",
      "metadata": {
        "id": "87kIrhTC9Ba1"
      }
    },
    {
      "cell_type": "markdown",
      "source": "**In the cells given below. Write the code to read the files.**",
      "metadata": {
        "id": "PjOtbBWM9xWv"
      }
    },
    {
      "cell_type": "code",
      "source": "# u.data\nimport pandas as pd\ndata_df = pd.read_csv('u.data', sep='\\t', header=None, nrows=10)\ndata_df.head(10)",
      "metadata": {
        "id": "XOoSaKsq68nD",
        "trusted": true,
        "tags": [],
        "editable": true,
        "slideshow": {
          "slide_type": ""
        }
      },
      "outputs": [
        {
          "execution_count": 112,
          "output_type": "execute_result",
          "data": {
            "text/plain": "     0    1  2          3\n0  196  242  3  881250949\n1  186  302  3  891717742\n2   22  377  1  878887116\n3  244   51  2  880606923\n4  166  346  1  886397596\n5  298  474  4  884182806\n6  115  265  2  881171488\n7  253  465  5  891628467\n8  305  451  3  886324817\n9    6   86  3  883603013",
            "text/html": "<div>\n<style scoped>\n    .dataframe tbody tr th:only-of-type {\n        vertical-align: middle;\n    }\n\n    .dataframe tbody tr th {\n        vertical-align: top;\n    }\n\n    .dataframe thead th {\n        text-align: right;\n    }\n</style>\n<table border=\"1\" class=\"dataframe\">\n  <thead>\n    <tr style=\"text-align: right;\">\n      <th></th>\n      <th>0</th>\n      <th>1</th>\n      <th>2</th>\n      <th>3</th>\n    </tr>\n  </thead>\n  <tbody>\n    <tr>\n      <th>0</th>\n      <td>196</td>\n      <td>242</td>\n      <td>3</td>\n      <td>881250949</td>\n    </tr>\n    <tr>\n      <th>1</th>\n      <td>186</td>\n      <td>302</td>\n      <td>3</td>\n      <td>891717742</td>\n    </tr>\n    <tr>\n      <th>2</th>\n      <td>22</td>\n      <td>377</td>\n      <td>1</td>\n      <td>878887116</td>\n    </tr>\n    <tr>\n      <th>3</th>\n      <td>244</td>\n      <td>51</td>\n      <td>2</td>\n      <td>880606923</td>\n    </tr>\n    <tr>\n      <th>4</th>\n      <td>166</td>\n      <td>346</td>\n      <td>1</td>\n      <td>886397596</td>\n    </tr>\n    <tr>\n      <th>5</th>\n      <td>298</td>\n      <td>474</td>\n      <td>4</td>\n      <td>884182806</td>\n    </tr>\n    <tr>\n      <th>6</th>\n      <td>115</td>\n      <td>265</td>\n      <td>2</td>\n      <td>881171488</td>\n    </tr>\n    <tr>\n      <th>7</th>\n      <td>253</td>\n      <td>465</td>\n      <td>5</td>\n      <td>891628467</td>\n    </tr>\n    <tr>\n      <th>8</th>\n      <td>305</td>\n      <td>451</td>\n      <td>3</td>\n      <td>886324817</td>\n    </tr>\n    <tr>\n      <th>9</th>\n      <td>6</td>\n      <td>86</td>\n      <td>3</td>\n      <td>883603013</td>\n    </tr>\n  </tbody>\n</table>\n</div>"
          },
          "metadata": {}
        }
      ],
      "execution_count": 112
    },
    {
      "cell_type": "code",
      "source": "# u.item\nitem_df = pd.read_csv('u.item', sep='|', header=None, encoding='latin1', nrows=10)\nitem_df.head(10)",
      "metadata": {
        "id": "dckMko0o9t-D",
        "trusted": true
      },
      "outputs": [
        {
          "execution_count": 113,
          "output_type": "execute_result",
          "data": {
            "text/plain": "   0                                                  1            2   3   \\\n0   1                                   Toy Story (1995)  01-Jan-1995 NaN   \n1   2                                   GoldenEye (1995)  01-Jan-1995 NaN   \n2   3                                  Four Rooms (1995)  01-Jan-1995 NaN   \n3   4                                  Get Shorty (1995)  01-Jan-1995 NaN   \n4   5                                     Copycat (1995)  01-Jan-1995 NaN   \n5   6  Shanghai Triad (Yao a yao yao dao waipo qiao) ...  01-Jan-1995 NaN   \n6   7                              Twelve Monkeys (1995)  01-Jan-1995 NaN   \n7   8                                        Babe (1995)  01-Jan-1995 NaN   \n8   9                            Dead Man Walking (1995)  01-Jan-1995 NaN   \n9  10                                 Richard III (1995)  22-Jan-1996 NaN   \n\n                                                  4   5   6   7   8   9   ...  \\\n0  http://us.imdb.com/M/title-exact?Toy%20Story%2...   0   0   0   1   1  ...   \n1  http://us.imdb.com/M/title-exact?GoldenEye%20(...   0   1   1   0   0  ...   \n2  http://us.imdb.com/M/title-exact?Four%20Rooms%...   0   0   0   0   0  ...   \n3  http://us.imdb.com/M/title-exact?Get%20Shorty%...   0   1   0   0   0  ...   \n4  http://us.imdb.com/M/title-exact?Copycat%20(1995)   0   0   0   0   0  ...   \n5  http://us.imdb.com/Title?Yao+a+yao+yao+dao+wai...   0   0   0   0   0  ...   \n6  http://us.imdb.com/M/title-exact?Twelve%20Monk...   0   0   0   0   0  ...   \n7     http://us.imdb.com/M/title-exact?Babe%20(1995)   0   0   0   0   1  ...   \n8  http://us.imdb.com/M/title-exact?Dead%20Man%20...   0   0   0   0   0  ...   \n9  http://us.imdb.com/M/title-exact?Richard%20III...   0   0   0   0   0  ...   \n\n   14  15  16  17  18  19  20  21  22  23  \n0   0   0   0   0   0   0   0   0   0   0  \n1   0   0   0   0   0   0   0   1   0   0  \n2   0   0   0   0   0   0   0   1   0   0  \n3   0   0   0   0   0   0   0   0   0   0  \n4   0   0   0   0   0   0   0   1   0   0  \n5   0   0   0   0   0   0   0   0   0   0  \n6   0   0   0   0   0   0   1   0   0   0  \n7   0   0   0   0   0   0   0   0   0   0  \n8   0   0   0   0   0   0   0   0   0   0  \n9   0   0   0   0   0   0   0   0   1   0  \n\n[10 rows x 24 columns]",
            "text/html": "<div>\n<style scoped>\n    .dataframe tbody tr th:only-of-type {\n        vertical-align: middle;\n    }\n\n    .dataframe tbody tr th {\n        vertical-align: top;\n    }\n\n    .dataframe thead th {\n        text-align: right;\n    }\n</style>\n<table border=\"1\" class=\"dataframe\">\n  <thead>\n    <tr style=\"text-align: right;\">\n      <th></th>\n      <th>0</th>\n      <th>1</th>\n      <th>2</th>\n      <th>3</th>\n      <th>4</th>\n      <th>5</th>\n      <th>6</th>\n      <th>7</th>\n      <th>8</th>\n      <th>9</th>\n      <th>...</th>\n      <th>14</th>\n      <th>15</th>\n      <th>16</th>\n      <th>17</th>\n      <th>18</th>\n      <th>19</th>\n      <th>20</th>\n      <th>21</th>\n      <th>22</th>\n      <th>23</th>\n    </tr>\n  </thead>\n  <tbody>\n    <tr>\n      <th>0</th>\n      <td>1</td>\n      <td>Toy Story (1995)</td>\n      <td>01-Jan-1995</td>\n      <td>NaN</td>\n      <td>http://us.imdb.com/M/title-exact?Toy%20Story%2...</td>\n      <td>0</td>\n      <td>0</td>\n      <td>0</td>\n      <td>1</td>\n      <td>1</td>\n      <td>...</td>\n      <td>0</td>\n      <td>0</td>\n      <td>0</td>\n      <td>0</td>\n      <td>0</td>\n      <td>0</td>\n      <td>0</td>\n      <td>0</td>\n      <td>0</td>\n      <td>0</td>\n    </tr>\n    <tr>\n      <th>1</th>\n      <td>2</td>\n      <td>GoldenEye (1995)</td>\n      <td>01-Jan-1995</td>\n      <td>NaN</td>\n      <td>http://us.imdb.com/M/title-exact?GoldenEye%20(...</td>\n      <td>0</td>\n      <td>1</td>\n      <td>1</td>\n      <td>0</td>\n      <td>0</td>\n      <td>...</td>\n      <td>0</td>\n      <td>0</td>\n      <td>0</td>\n      <td>0</td>\n      <td>0</td>\n      <td>0</td>\n      <td>0</td>\n      <td>1</td>\n      <td>0</td>\n      <td>0</td>\n    </tr>\n    <tr>\n      <th>2</th>\n      <td>3</td>\n      <td>Four Rooms (1995)</td>\n      <td>01-Jan-1995</td>\n      <td>NaN</td>\n      <td>http://us.imdb.com/M/title-exact?Four%20Rooms%...</td>\n      <td>0</td>\n      <td>0</td>\n      <td>0</td>\n      <td>0</td>\n      <td>0</td>\n      <td>...</td>\n      <td>0</td>\n      <td>0</td>\n      <td>0</td>\n      <td>0</td>\n      <td>0</td>\n      <td>0</td>\n      <td>0</td>\n      <td>1</td>\n      <td>0</td>\n      <td>0</td>\n    </tr>\n    <tr>\n      <th>3</th>\n      <td>4</td>\n      <td>Get Shorty (1995)</td>\n      <td>01-Jan-1995</td>\n      <td>NaN</td>\n      <td>http://us.imdb.com/M/title-exact?Get%20Shorty%...</td>\n      <td>0</td>\n      <td>1</td>\n      <td>0</td>\n      <td>0</td>\n      <td>0</td>\n      <td>...</td>\n      <td>0</td>\n      <td>0</td>\n      <td>0</td>\n      <td>0</td>\n      <td>0</td>\n      <td>0</td>\n      <td>0</td>\n      <td>0</td>\n      <td>0</td>\n      <td>0</td>\n    </tr>\n    <tr>\n      <th>4</th>\n      <td>5</td>\n      <td>Copycat (1995)</td>\n      <td>01-Jan-1995</td>\n      <td>NaN</td>\n      <td>http://us.imdb.com/M/title-exact?Copycat%20(1995)</td>\n      <td>0</td>\n      <td>0</td>\n      <td>0</td>\n      <td>0</td>\n      <td>0</td>\n      <td>...</td>\n      <td>0</td>\n      <td>0</td>\n      <td>0</td>\n      <td>0</td>\n      <td>0</td>\n      <td>0</td>\n      <td>0</td>\n      <td>1</td>\n      <td>0</td>\n      <td>0</td>\n    </tr>\n    <tr>\n      <th>5</th>\n      <td>6</td>\n      <td>Shanghai Triad (Yao a yao yao dao waipo qiao) ...</td>\n      <td>01-Jan-1995</td>\n      <td>NaN</td>\n      <td>http://us.imdb.com/Title?Yao+a+yao+yao+dao+wai...</td>\n      <td>0</td>\n      <td>0</td>\n      <td>0</td>\n      <td>0</td>\n      <td>0</td>\n      <td>...</td>\n      <td>0</td>\n      <td>0</td>\n      <td>0</td>\n      <td>0</td>\n      <td>0</td>\n      <td>0</td>\n      <td>0</td>\n      <td>0</td>\n      <td>0</td>\n      <td>0</td>\n    </tr>\n    <tr>\n      <th>6</th>\n      <td>7</td>\n      <td>Twelve Monkeys (1995)</td>\n      <td>01-Jan-1995</td>\n      <td>NaN</td>\n      <td>http://us.imdb.com/M/title-exact?Twelve%20Monk...</td>\n      <td>0</td>\n      <td>0</td>\n      <td>0</td>\n      <td>0</td>\n      <td>0</td>\n      <td>...</td>\n      <td>0</td>\n      <td>0</td>\n      <td>0</td>\n      <td>0</td>\n      <td>0</td>\n      <td>0</td>\n      <td>1</td>\n      <td>0</td>\n      <td>0</td>\n      <td>0</td>\n    </tr>\n    <tr>\n      <th>7</th>\n      <td>8</td>\n      <td>Babe (1995)</td>\n      <td>01-Jan-1995</td>\n      <td>NaN</td>\n      <td>http://us.imdb.com/M/title-exact?Babe%20(1995)</td>\n      <td>0</td>\n      <td>0</td>\n      <td>0</td>\n      <td>0</td>\n      <td>1</td>\n      <td>...</td>\n      <td>0</td>\n      <td>0</td>\n      <td>0</td>\n      <td>0</td>\n      <td>0</td>\n      <td>0</td>\n      <td>0</td>\n      <td>0</td>\n      <td>0</td>\n      <td>0</td>\n    </tr>\n    <tr>\n      <th>8</th>\n      <td>9</td>\n      <td>Dead Man Walking (1995)</td>\n      <td>01-Jan-1995</td>\n      <td>NaN</td>\n      <td>http://us.imdb.com/M/title-exact?Dead%20Man%20...</td>\n      <td>0</td>\n      <td>0</td>\n      <td>0</td>\n      <td>0</td>\n      <td>0</td>\n      <td>...</td>\n      <td>0</td>\n      <td>0</td>\n      <td>0</td>\n      <td>0</td>\n      <td>0</td>\n      <td>0</td>\n      <td>0</td>\n      <td>0</td>\n      <td>0</td>\n      <td>0</td>\n    </tr>\n    <tr>\n      <th>9</th>\n      <td>10</td>\n      <td>Richard III (1995)</td>\n      <td>22-Jan-1996</td>\n      <td>NaN</td>\n      <td>http://us.imdb.com/M/title-exact?Richard%20III...</td>\n      <td>0</td>\n      <td>0</td>\n      <td>0</td>\n      <td>0</td>\n      <td>0</td>\n      <td>...</td>\n      <td>0</td>\n      <td>0</td>\n      <td>0</td>\n      <td>0</td>\n      <td>0</td>\n      <td>0</td>\n      <td>0</td>\n      <td>0</td>\n      <td>1</td>\n      <td>0</td>\n    </tr>\n  </tbody>\n</table>\n<p>10 rows × 24 columns</p>\n</div>"
          },
          "metadata": {}
        }
      ],
      "execution_count": 113
    },
    {
      "cell_type": "code",
      "source": "# u.user\nuser_df = pd.read_csv('u.user', sep='|', header=None, nrows=10)\nuser_df.head(10)",
      "metadata": {
        "id": "R7kBwpsi-WKB",
        "trusted": true,
        "tags": [],
        "editable": true,
        "slideshow": {
          "slide_type": ""
        }
      },
      "outputs": [
        {
          "execution_count": 114,
          "output_type": "execute_result",
          "data": {
            "text/plain": "    0   1  2              3      4\n0   1  24  M     technician  85711\n1   2  53  F          other  94043\n2   3  23  M         writer  32067\n3   4  24  M     technician  43537\n4   5  33  F          other  15213\n5   6  42  M      executive  98101\n6   7  57  M  administrator  91344\n7   8  36  M  administrator   5201\n8   9  29  M        student   1002\n9  10  53  M         lawyer  90703",
            "text/html": "<div>\n<style scoped>\n    .dataframe tbody tr th:only-of-type {\n        vertical-align: middle;\n    }\n\n    .dataframe tbody tr th {\n        vertical-align: top;\n    }\n\n    .dataframe thead th {\n        text-align: right;\n    }\n</style>\n<table border=\"1\" class=\"dataframe\">\n  <thead>\n    <tr style=\"text-align: right;\">\n      <th></th>\n      <th>0</th>\n      <th>1</th>\n      <th>2</th>\n      <th>3</th>\n      <th>4</th>\n    </tr>\n  </thead>\n  <tbody>\n    <tr>\n      <th>0</th>\n      <td>1</td>\n      <td>24</td>\n      <td>M</td>\n      <td>technician</td>\n      <td>85711</td>\n    </tr>\n    <tr>\n      <th>1</th>\n      <td>2</td>\n      <td>53</td>\n      <td>F</td>\n      <td>other</td>\n      <td>94043</td>\n    </tr>\n    <tr>\n      <th>2</th>\n      <td>3</td>\n      <td>23</td>\n      <td>M</td>\n      <td>writer</td>\n      <td>32067</td>\n    </tr>\n    <tr>\n      <th>3</th>\n      <td>4</td>\n      <td>24</td>\n      <td>M</td>\n      <td>technician</td>\n      <td>43537</td>\n    </tr>\n    <tr>\n      <th>4</th>\n      <td>5</td>\n      <td>33</td>\n      <td>F</td>\n      <td>other</td>\n      <td>15213</td>\n    </tr>\n    <tr>\n      <th>5</th>\n      <td>6</td>\n      <td>42</td>\n      <td>M</td>\n      <td>executive</td>\n      <td>98101</td>\n    </tr>\n    <tr>\n      <th>6</th>\n      <td>7</td>\n      <td>57</td>\n      <td>M</td>\n      <td>administrator</td>\n      <td>91344</td>\n    </tr>\n    <tr>\n      <th>7</th>\n      <td>8</td>\n      <td>36</td>\n      <td>M</td>\n      <td>administrator</td>\n      <td>5201</td>\n    </tr>\n    <tr>\n      <th>8</th>\n      <td>9</td>\n      <td>29</td>\n      <td>M</td>\n      <td>student</td>\n      <td>1002</td>\n    </tr>\n    <tr>\n      <th>9</th>\n      <td>10</td>\n      <td>53</td>\n      <td>M</td>\n      <td>lawyer</td>\n      <td>90703</td>\n    </tr>\n  </tbody>\n</table>\n</div>"
          },
          "metadata": {}
        }
      ],
      "execution_count": 114
    },
    {
      "cell_type": "markdown",
      "source": "#### Loading the Dataset with Pandas",
      "metadata": {
        "id": "YnryIHO7-db3"
      }
    },
    {
      "cell_type": "markdown",
      "source": "Use **pandas** to load the dataset into a DataFrame for analysis. Follow these steps:  \n\n1. Import the necessary library: `pandas`.  \n2. Use `pd.read_csv()` (or an appropriate function) to read the dataset file.  \n3. Ensure the dataset is loaded with the correct delimiter (e.g., `','`, `'\\t'`,`'|'` , or another separator if needed).  \n4. Select and display the first few rows using `.head()`.",
      "metadata": {
        "id": "Jwmza7riBj30"
      }
    },
    {
      "cell_type": "markdown",
      "source": "Ensure that:  \n\n- The `ratings` dataset is read from `\"u.data\"` using tab (`'\\t'`) as a separator and column names (`\"user_id\"`, `\"movie_id\"`, `\"rating\"` and `\"timestamp\"`).  \n- The `movies` dataset is read from `\"u.item\"` using `'|'` as a separator, use columns (`0`, `1`, `2`), encoding (`\"latin-1\"`) and name the columns (`movie_id`, `title`, and `release_date`).  \n- The `users` dataset is read from `\"u.user\"` using `'|'` as a separator, use columns (`0`, `1`, `2`, `3`) and name the columns (`user_id`, `age`, `gender`, and `occupation`).",
      "metadata": {
        "id": "KPEDYYGOBOSD"
      }
    },
    {
      "cell_type": "code",
      "source": "# ratings\nratings = pd.read_csv('u.data', sep='\\t', names=['user_id', 'movie_id', 'rating', 'timestamp'])",
      "metadata": {
        "id": "Go-Y-Ofy-ZTk",
        "trusted": true
      },
      "outputs": [],
      "execution_count": 115
    },
    {
      "cell_type": "code",
      "source": "# movies\nmovies = pd.read_csv('u.item', sep='|', usecols=[0, 1, 2], encoding='latin-1', names=['movie_id', 'title', 'release_date'])",
      "metadata": {
        "id": "zM8IJGh-CLN5",
        "trusted": true
      },
      "outputs": [],
      "execution_count": 116
    },
    {
      "cell_type": "code",
      "source": "# users\nusers = pd.read_csv('u.user', sep='|', usecols=[0, 1, 2, 3], names=['user_id', 'age', 'gender', 'occupation'])",
      "metadata": {
        "id": "hsekVjevCNKj",
        "trusted": true
      },
      "outputs": [],
      "execution_count": 117
    },
    {
      "cell_type": "markdown",
      "source": "**Note:** As a **Bonus** task save the `ratings`, `movies` and `users` dataframe created into a `.csv` file format. <br>\n**Hint:** Use the `to_csv()` function in pandas to save these DataFrames as CSV files.",
      "metadata": {
        "id": "jE5OHLqt7xeq"
      }
    },
    {
      "cell_type": "code",
      "source": "# ratings\nratings.to_csv('ratings.csv', index=False)",
      "metadata": {
        "id": "Chyv3c4n8wVC",
        "trusted": true
      },
      "outputs": [],
      "execution_count": 118
    },
    {
      "cell_type": "code",
      "source": "# movies\nmovies.to_csv('movies.csv', index=False)",
      "metadata": {
        "id": "Gl7zVV3y8wKU",
        "trusted": true
      },
      "outputs": [],
      "execution_count": 119
    },
    {
      "cell_type": "code",
      "source": "# users\nusers.to_csv('users.csv', index=False)",
      "metadata": {
        "id": "0YwVuebp8u46",
        "trusted": true
      },
      "outputs": [],
      "execution_count": 120
    },
    {
      "cell_type": "markdown",
      "source": "**Display the first 10 rows of each file.**",
      "metadata": {
        "id": "s3S1y82cCYxx",
        "tags": [],
        "editable": true,
        "slideshow": {
          "slide_type": ""
        }
      }
    },
    {
      "cell_type": "code",
      "source": "# ratings\nratings_df = pd.read_csv('ratings.csv')\nratings_df.head(10)",
      "metadata": {
        "id": "x5ZOXTqnCPgw",
        "trusted": true
      },
      "outputs": [
        {
          "execution_count": 121,
          "output_type": "execute_result",
          "data": {
            "text/plain": "   user_id  movie_id  rating  timestamp\n0      196       242       3  881250949\n1      186       302       3  891717742\n2       22       377       1  878887116\n3      244        51       2  880606923\n4      166       346       1  886397596\n5      298       474       4  884182806\n6      115       265       2  881171488\n7      253       465       5  891628467\n8      305       451       3  886324817\n9        6        86       3  883603013",
            "text/html": "<div>\n<style scoped>\n    .dataframe tbody tr th:only-of-type {\n        vertical-align: middle;\n    }\n\n    .dataframe tbody tr th {\n        vertical-align: top;\n    }\n\n    .dataframe thead th {\n        text-align: right;\n    }\n</style>\n<table border=\"1\" class=\"dataframe\">\n  <thead>\n    <tr style=\"text-align: right;\">\n      <th></th>\n      <th>user_id</th>\n      <th>movie_id</th>\n      <th>rating</th>\n      <th>timestamp</th>\n    </tr>\n  </thead>\n  <tbody>\n    <tr>\n      <th>0</th>\n      <td>196</td>\n      <td>242</td>\n      <td>3</td>\n      <td>881250949</td>\n    </tr>\n    <tr>\n      <th>1</th>\n      <td>186</td>\n      <td>302</td>\n      <td>3</td>\n      <td>891717742</td>\n    </tr>\n    <tr>\n      <th>2</th>\n      <td>22</td>\n      <td>377</td>\n      <td>1</td>\n      <td>878887116</td>\n    </tr>\n    <tr>\n      <th>3</th>\n      <td>244</td>\n      <td>51</td>\n      <td>2</td>\n      <td>880606923</td>\n    </tr>\n    <tr>\n      <th>4</th>\n      <td>166</td>\n      <td>346</td>\n      <td>1</td>\n      <td>886397596</td>\n    </tr>\n    <tr>\n      <th>5</th>\n      <td>298</td>\n      <td>474</td>\n      <td>4</td>\n      <td>884182806</td>\n    </tr>\n    <tr>\n      <th>6</th>\n      <td>115</td>\n      <td>265</td>\n      <td>2</td>\n      <td>881171488</td>\n    </tr>\n    <tr>\n      <th>7</th>\n      <td>253</td>\n      <td>465</td>\n      <td>5</td>\n      <td>891628467</td>\n    </tr>\n    <tr>\n      <th>8</th>\n      <td>305</td>\n      <td>451</td>\n      <td>3</td>\n      <td>886324817</td>\n    </tr>\n    <tr>\n      <th>9</th>\n      <td>6</td>\n      <td>86</td>\n      <td>3</td>\n      <td>883603013</td>\n    </tr>\n  </tbody>\n</table>\n</div>"
          },
          "metadata": {}
        }
      ],
      "execution_count": 121
    },
    {
      "cell_type": "code",
      "source": "# movies\nmovies_df = pd.read_csv('movies.csv')\nmovies_df.head(10)",
      "metadata": {
        "id": "AzuqiRkrCdfZ",
        "trusted": true
      },
      "outputs": [
        {
          "execution_count": 122,
          "output_type": "execute_result",
          "data": {
            "text/plain": "   movie_id                                              title release_date\n0         1                                   Toy Story (1995)  01-Jan-1995\n1         2                                   GoldenEye (1995)  01-Jan-1995\n2         3                                  Four Rooms (1995)  01-Jan-1995\n3         4                                  Get Shorty (1995)  01-Jan-1995\n4         5                                     Copycat (1995)  01-Jan-1995\n5         6  Shanghai Triad (Yao a yao yao dao waipo qiao) ...  01-Jan-1995\n6         7                              Twelve Monkeys (1995)  01-Jan-1995\n7         8                                        Babe (1995)  01-Jan-1995\n8         9                            Dead Man Walking (1995)  01-Jan-1995\n9        10                                 Richard III (1995)  22-Jan-1996",
            "text/html": "<div>\n<style scoped>\n    .dataframe tbody tr th:only-of-type {\n        vertical-align: middle;\n    }\n\n    .dataframe tbody tr th {\n        vertical-align: top;\n    }\n\n    .dataframe thead th {\n        text-align: right;\n    }\n</style>\n<table border=\"1\" class=\"dataframe\">\n  <thead>\n    <tr style=\"text-align: right;\">\n      <th></th>\n      <th>movie_id</th>\n      <th>title</th>\n      <th>release_date</th>\n    </tr>\n  </thead>\n  <tbody>\n    <tr>\n      <th>0</th>\n      <td>1</td>\n      <td>Toy Story (1995)</td>\n      <td>01-Jan-1995</td>\n    </tr>\n    <tr>\n      <th>1</th>\n      <td>2</td>\n      <td>GoldenEye (1995)</td>\n      <td>01-Jan-1995</td>\n    </tr>\n    <tr>\n      <th>2</th>\n      <td>3</td>\n      <td>Four Rooms (1995)</td>\n      <td>01-Jan-1995</td>\n    </tr>\n    <tr>\n      <th>3</th>\n      <td>4</td>\n      <td>Get Shorty (1995)</td>\n      <td>01-Jan-1995</td>\n    </tr>\n    <tr>\n      <th>4</th>\n      <td>5</td>\n      <td>Copycat (1995)</td>\n      <td>01-Jan-1995</td>\n    </tr>\n    <tr>\n      <th>5</th>\n      <td>6</td>\n      <td>Shanghai Triad (Yao a yao yao dao waipo qiao) ...</td>\n      <td>01-Jan-1995</td>\n    </tr>\n    <tr>\n      <th>6</th>\n      <td>7</td>\n      <td>Twelve Monkeys (1995)</td>\n      <td>01-Jan-1995</td>\n    </tr>\n    <tr>\n      <th>7</th>\n      <td>8</td>\n      <td>Babe (1995)</td>\n      <td>01-Jan-1995</td>\n    </tr>\n    <tr>\n      <th>8</th>\n      <td>9</td>\n      <td>Dead Man Walking (1995)</td>\n      <td>01-Jan-1995</td>\n    </tr>\n    <tr>\n      <th>9</th>\n      <td>10</td>\n      <td>Richard III (1995)</td>\n      <td>22-Jan-1996</td>\n    </tr>\n  </tbody>\n</table>\n</div>"
          },
          "metadata": {}
        }
      ],
      "execution_count": 122
    },
    {
      "cell_type": "code",
      "source": "# users\nusers_df = pd.read_csv('users.csv')\nusers_df.head(10)",
      "metadata": {
        "id": "FE9hcM9mCewe",
        "trusted": true
      },
      "outputs": [
        {
          "execution_count": 123,
          "output_type": "execute_result",
          "data": {
            "text/plain": "   user_id  age gender     occupation\n0        1   24      M     technician\n1        2   53      F          other\n2        3   23      M         writer\n3        4   24      M     technician\n4        5   33      F          other\n5        6   42      M      executive\n6        7   57      M  administrator\n7        8   36      M  administrator\n8        9   29      M        student\n9       10   53      M         lawyer",
            "text/html": "<div>\n<style scoped>\n    .dataframe tbody tr th:only-of-type {\n        vertical-align: middle;\n    }\n\n    .dataframe tbody tr th {\n        vertical-align: top;\n    }\n\n    .dataframe thead th {\n        text-align: right;\n    }\n</style>\n<table border=\"1\" class=\"dataframe\">\n  <thead>\n    <tr style=\"text-align: right;\">\n      <th></th>\n      <th>user_id</th>\n      <th>age</th>\n      <th>gender</th>\n      <th>occupation</th>\n    </tr>\n  </thead>\n  <tbody>\n    <tr>\n      <th>0</th>\n      <td>1</td>\n      <td>24</td>\n      <td>M</td>\n      <td>technician</td>\n    </tr>\n    <tr>\n      <th>1</th>\n      <td>2</td>\n      <td>53</td>\n      <td>F</td>\n      <td>other</td>\n    </tr>\n    <tr>\n      <th>2</th>\n      <td>3</td>\n      <td>23</td>\n      <td>M</td>\n      <td>writer</td>\n    </tr>\n    <tr>\n      <th>3</th>\n      <td>4</td>\n      <td>24</td>\n      <td>M</td>\n      <td>technician</td>\n    </tr>\n    <tr>\n      <th>4</th>\n      <td>5</td>\n      <td>33</td>\n      <td>F</td>\n      <td>other</td>\n    </tr>\n    <tr>\n      <th>5</th>\n      <td>6</td>\n      <td>42</td>\n      <td>M</td>\n      <td>executive</td>\n    </tr>\n    <tr>\n      <th>6</th>\n      <td>7</td>\n      <td>57</td>\n      <td>M</td>\n      <td>administrator</td>\n    </tr>\n    <tr>\n      <th>7</th>\n      <td>8</td>\n      <td>36</td>\n      <td>M</td>\n      <td>administrator</td>\n    </tr>\n    <tr>\n      <th>8</th>\n      <td>9</td>\n      <td>29</td>\n      <td>M</td>\n      <td>student</td>\n    </tr>\n    <tr>\n      <th>9</th>\n      <td>10</td>\n      <td>53</td>\n      <td>M</td>\n      <td>lawyer</td>\n    </tr>\n  </tbody>\n</table>\n</div>"
          },
          "metadata": {}
        }
      ],
      "execution_count": 123
    },
    {
      "cell_type": "markdown",
      "source": "### Data Cleaning and Exploration with Pandas  \n\nAfter loading the dataset, it’s important to clean and explore the data to ensure consistency and accuracy. Below are key **pandas** functions for cleaning and understanding the dataset.\n\n#### 1. Handle Missing Values  \n- `df.dropna()` – Removes rows with missing values.  \n- `df.fillna(value)` – Fills missing values with a specified value.  \n\n#### 2. Remove Duplicates  \n- `df.drop_duplicates()` – Drops duplicate rows from the dataset.  \n\n#### 3. Handle Incorrect Data Types  \n- `df.astype(dtype)` – Converts columns to the appropriate data type.  \n\n#### 4. Filter Outliers (if applicable)  \n- `df[df['column_name'] > threshold]` – Filters rows based on a condition.  \n\n#### 5. Rename Columns (if needed)  \n- `df.rename(columns={'old_name': 'new_name'})` – Renames columns for clarity.  \n\n#### 6. Reset Index  \n- `df.reset_index(drop=True, inplace=True)` – Resets the index after cleaning.  \n\n### Data Exploration Functions  \n\nTo better understand the dataset, use these **pandas** functions:  \n\n- `df.shape` – Returns the number of rows and columns in the dataset.  \n- `df.nunique()` – Displays the number of unique values in each column.  \n- `df['column_name'].unique()` – Returns unique values in a specific column.  \n\n**Example Usage in Pandas:**  \n```python\nimport pandas as pd\n\n# Load dataset\ndf = pd.read_csv(\"your_file.csv\")\n\n# Drop missing values\ndf_cleaned = df.dropna()\n\n# Remove duplicate rows\ndf_cleaned = df_cleaned.drop_duplicates()\n\n# Convert 'timestamp' column to datetime format\ndf_cleaned['timestamp'] = pd.to_datetime(df_cleaned['timestamp'])\n\n# Display dataset shape\nprint(\"Dataset shape:\", df_cleaned.shape)\n\n# Display number of unique values in each column\nprint(\"Unique values per column:\\n\", df_cleaned.nunique())\n\n# Display unique movie IDs\nprint(\"Unique movie IDs:\", df_cleaned['movie_id'].unique()[:10])  # Show first 10 unique movie IDs\n",
      "metadata": {
        "id": "i38iDIz-DiVj"
      }
    },
    {
      "cell_type": "markdown",
      "source": "**Note:** The functions mentioned above are some of the widely used **pandas** functions for data cleaning and exploration. However, it is not necessary that all of these functions will be required in the exercises below. Use them as needed based on the dataset and the specific tasks.",
      "metadata": {
        "id": "4cwmLON4EItA"
      }
    },
    {
      "cell_type": "markdown",
      "source": "**Convert Timestamps into Readable dates.**",
      "metadata": {
        "id": "Tn0bLOSACxMP"
      }
    },
    {
      "cell_type": "code",
      "source": "# ratings\nratings_df['timestamp'] = pd.to_datetime(ratings_df['timestamp'])\nratings_df",
      "metadata": {
        "id": "9MwnDxeeCf8b",
        "trusted": true,
        "tags": [],
        "editable": true,
        "slideshow": {
          "slide_type": ""
        }
      },
      "outputs": [
        {
          "execution_count": 124,
          "output_type": "execute_result",
          "data": {
            "text/plain": "       user_id  movie_id  rating                     timestamp\n0          196       242       3 1970-01-01 00:00:00.881250949\n1          186       302       3 1970-01-01 00:00:00.891717742\n2           22       377       1 1970-01-01 00:00:00.878887116\n3          244        51       2 1970-01-01 00:00:00.880606923\n4          166       346       1 1970-01-01 00:00:00.886397596\n...        ...       ...     ...                           ...\n99995      880       476       3 1970-01-01 00:00:00.880175444\n99996      716       204       5 1970-01-01 00:00:00.879795543\n99997      276      1090       1 1970-01-01 00:00:00.874795795\n99998       13       225       2 1970-01-01 00:00:00.882399156\n99999       12       203       3 1970-01-01 00:00:00.879959583\n\n[100000 rows x 4 columns]",
            "text/html": "<div>\n<style scoped>\n    .dataframe tbody tr th:only-of-type {\n        vertical-align: middle;\n    }\n\n    .dataframe tbody tr th {\n        vertical-align: top;\n    }\n\n    .dataframe thead th {\n        text-align: right;\n    }\n</style>\n<table border=\"1\" class=\"dataframe\">\n  <thead>\n    <tr style=\"text-align: right;\">\n      <th></th>\n      <th>user_id</th>\n      <th>movie_id</th>\n      <th>rating</th>\n      <th>timestamp</th>\n    </tr>\n  </thead>\n  <tbody>\n    <tr>\n      <th>0</th>\n      <td>196</td>\n      <td>242</td>\n      <td>3</td>\n      <td>1970-01-01 00:00:00.881250949</td>\n    </tr>\n    <tr>\n      <th>1</th>\n      <td>186</td>\n      <td>302</td>\n      <td>3</td>\n      <td>1970-01-01 00:00:00.891717742</td>\n    </tr>\n    <tr>\n      <th>2</th>\n      <td>22</td>\n      <td>377</td>\n      <td>1</td>\n      <td>1970-01-01 00:00:00.878887116</td>\n    </tr>\n    <tr>\n      <th>3</th>\n      <td>244</td>\n      <td>51</td>\n      <td>2</td>\n      <td>1970-01-01 00:00:00.880606923</td>\n    </tr>\n    <tr>\n      <th>4</th>\n      <td>166</td>\n      <td>346</td>\n      <td>1</td>\n      <td>1970-01-01 00:00:00.886397596</td>\n    </tr>\n    <tr>\n      <th>...</th>\n      <td>...</td>\n      <td>...</td>\n      <td>...</td>\n      <td>...</td>\n    </tr>\n    <tr>\n      <th>99995</th>\n      <td>880</td>\n      <td>476</td>\n      <td>3</td>\n      <td>1970-01-01 00:00:00.880175444</td>\n    </tr>\n    <tr>\n      <th>99996</th>\n      <td>716</td>\n      <td>204</td>\n      <td>5</td>\n      <td>1970-01-01 00:00:00.879795543</td>\n    </tr>\n    <tr>\n      <th>99997</th>\n      <td>276</td>\n      <td>1090</td>\n      <td>1</td>\n      <td>1970-01-01 00:00:00.874795795</td>\n    </tr>\n    <tr>\n      <th>99998</th>\n      <td>13</td>\n      <td>225</td>\n      <td>2</td>\n      <td>1970-01-01 00:00:00.882399156</td>\n    </tr>\n    <tr>\n      <th>99999</th>\n      <td>12</td>\n      <td>203</td>\n      <td>3</td>\n      <td>1970-01-01 00:00:00.879959583</td>\n    </tr>\n  </tbody>\n</table>\n<p>100000 rows × 4 columns</p>\n</div>"
          },
          "metadata": {}
        }
      ],
      "execution_count": 124
    },
    {
      "cell_type": "markdown",
      "source": "**Check for Missing Values**",
      "metadata": {
        "id": "oKJB0a9CE0Z4"
      }
    },
    {
      "cell_type": "code",
      "source": "# ratings\nratings = pd.read_csv('ratings.csv')\n\nmissing_values = ratings.isnull().sum()\n\nmissing_values",
      "metadata": {
        "id": "iYf4NM47DL7q",
        "trusted": true
      },
      "outputs": [
        {
          "execution_count": 125,
          "output_type": "execute_result",
          "data": {
            "text/plain": "user_id      0\nmovie_id     0\nrating       0\ntimestamp    0\ndtype: int64"
          },
          "metadata": {}
        }
      ],
      "execution_count": 125
    },
    {
      "cell_type": "code",
      "source": "# movies\nmovies = pd.read_csv('movies.csv')\n\nmissing_values = ratings.isnull().sum()\n\nmissing_values",
      "metadata": {
        "id": "hgM78fNaFH2q",
        "trusted": true
      },
      "outputs": [
        {
          "execution_count": 126,
          "output_type": "execute_result",
          "data": {
            "text/plain": "user_id      0\nmovie_id     0\nrating       0\ntimestamp    0\ndtype: int64"
          },
          "metadata": {}
        }
      ],
      "execution_count": 126
    },
    {
      "cell_type": "code",
      "source": "# users\nusers = pd.read_csv('users.csv')\n\nmissing_values = ratings.isnull().sum()\n\nmissing_values",
      "metadata": {
        "id": "jE8J_cajFA5n",
        "trusted": true
      },
      "outputs": [
        {
          "execution_count": 127,
          "output_type": "execute_result",
          "data": {
            "text/plain": "user_id      0\nmovie_id     0\nrating       0\ntimestamp    0\ndtype: int64"
          },
          "metadata": {}
        }
      ],
      "execution_count": 127
    },
    {
      "cell_type": "markdown",
      "source": "**Print the total number of users, movies, and ratings.**",
      "metadata": {
        "id": "1WviFe7iFRoQ",
        "tags": [],
        "editable": true,
        "slideshow": {
          "slide_type": ""
        }
      }
    },
    {
      "cell_type": "code",
      "source": "print(f\"Total Users: {ratings['user_id'].nunique()}\")\nprint(f\"Total Movies: {ratings['movie_id'].nunique()}\")\nprint(f\"Total Ratings: {len(ratings)}\")",
      "metadata": {
        "id": "eR_QgS9aFTPb",
        "trusted": true
      },
      "outputs": [
        {
          "name": "stdout",
          "output_type": "stream",
          "text": "Total Users: 943\nTotal Movies: 1682\nTotal Ratings: 100000\n"
        }
      ],
      "execution_count": 128
    },
    {
      "cell_type": "markdown",
      "source": "## **Part 2: Collaborative Filtering-Based Recommendation**",
      "metadata": {
        "id": "NjxACjUgFwsk",
        "tags": [],
        "editable": true,
        "slideshow": {
          "slide_type": ""
        }
      }
    },
    {
      "cell_type": "markdown",
      "source": "### **Create a User-Item Matrix**",
      "metadata": {
        "id": "AyeSaLpRGYuC"
      }
    },
    {
      "cell_type": "markdown",
      "source": "#### Instructions for Creating a User-Movie Rating Matrix",
      "metadata": {
        "id": "3tKsv-7XHRq2"
      }
    },
    {
      "cell_type": "markdown",
      "source": "In this exercise, you will create a user-movie rating matrix using **pandas**. This matrix will represent the ratings that users have given to different movies.\n\n1. **Dataset Overview**:  \n   The dataset has already been loaded. It includes the following key columns:\n   - `user_id`: The ID of the user.\n   - `movie_id`: The ID of the movie.\n   - `ratings`: The rating the user gave to the movie.\n\n2. **Create the User-Movie Rating Matrix**:  \n   Use the **`pivot()`** function in **pandas** to reshape the data. Your goal is to create a matrix where:\n   - Each **row** represents a **user**.\n   - Each **column** represents a **movie**.\n   - Each **cell** contains the **rating** that the user has given to the movie.\n\n   Specify the following parameters for the `pivot()` function:\n   - **`index`**: The `user_id` column (this will define the rows).\n   - **`columns`**: The `movie_id` column (this will define the columns).\n   - **`values`**: The `rating` column (this will fill the matrix with ratings).\n\n3. **Inspect the Matrix**:  \n   After creating the matrix, examine the first few rows of the resulting matrix to ensure it has been constructed correctly.\n\n4. **Handle Missing Values**:  \n   It's likely that some users have not rated every movie, resulting in `NaN` values in the matrix. You will need to handle these missing values. Consider the following options:\n   - **Fill with 0**: If you wish to represent missing ratings as zeros (indicating no rating).\n   - **Fill with the average rating**: Alternatively, replace missing values with the average rating for each movie.",
      "metadata": {
        "id": "lLayr0YbH4tB"
      }
    },
    {
      "cell_type": "markdown",
      "source": "**Create the user-movie rating matrix using the `pivot()` function.**",
      "metadata": {
        "id": "E_cdPXYeaD-l"
      }
    },
    {
      "cell_type": "code",
      "source": "import pandas as pd\n\n# Assuming ratings_df is already loaded\n# Create the User-Movie Rating Matrix using pivot()\nratings_matrix = ratings_df.pivot(index='user_id', columns='movie_id', values='rating')\n\n# Handle missing values\nratings_matrix_filled_0 = ratings_matrix.fillna(0)",
      "metadata": {
        "trusted": true
      },
      "outputs": [],
      "execution_count": 129
    },
    {
      "cell_type": "markdown",
      "source": "**Display the matrix to verify the transformation.**",
      "metadata": {
        "id": "tyb3h9FmaVGH"
      }
    },
    {
      "cell_type": "code",
      "source": "display(ratings_matrix_filled_0.iloc[:5, :5])",
      "metadata": {
        "id": "16abaOrXabN_",
        "trusted": true
      },
      "outputs": [
        {
          "output_type": "display_data",
          "data": {
            "text/plain": "movie_id    1    2    3    4    5\nuser_id                          \n1         5.0  3.0  4.0  3.0  3.0\n2         4.0  0.0  0.0  0.0  0.0\n3         0.0  0.0  0.0  0.0  0.0\n4         0.0  0.0  0.0  0.0  0.0\n5         4.0  3.0  0.0  0.0  0.0",
            "text/html": "<div>\n<style scoped>\n    .dataframe tbody tr th:only-of-type {\n        vertical-align: middle;\n    }\n\n    .dataframe tbody tr th {\n        vertical-align: top;\n    }\n\n    .dataframe thead th {\n        text-align: right;\n    }\n</style>\n<table border=\"1\" class=\"dataframe\">\n  <thead>\n    <tr style=\"text-align: right;\">\n      <th>movie_id</th>\n      <th>1</th>\n      <th>2</th>\n      <th>3</th>\n      <th>4</th>\n      <th>5</th>\n    </tr>\n    <tr>\n      <th>user_id</th>\n      <th></th>\n      <th></th>\n      <th></th>\n      <th></th>\n      <th></th>\n    </tr>\n  </thead>\n  <tbody>\n    <tr>\n      <th>1</th>\n      <td>5.0</td>\n      <td>3.0</td>\n      <td>4.0</td>\n      <td>3.0</td>\n      <td>3.0</td>\n    </tr>\n    <tr>\n      <th>2</th>\n      <td>4.0</td>\n      <td>0.0</td>\n      <td>0.0</td>\n      <td>0.0</td>\n      <td>0.0</td>\n    </tr>\n    <tr>\n      <th>3</th>\n      <td>0.0</td>\n      <td>0.0</td>\n      <td>0.0</td>\n      <td>0.0</td>\n      <td>0.0</td>\n    </tr>\n    <tr>\n      <th>4</th>\n      <td>0.0</td>\n      <td>0.0</td>\n      <td>0.0</td>\n      <td>0.0</td>\n      <td>0.0</td>\n    </tr>\n    <tr>\n      <th>5</th>\n      <td>4.0</td>\n      <td>3.0</td>\n      <td>0.0</td>\n      <td>0.0</td>\n      <td>0.0</td>\n    </tr>\n  </tbody>\n</table>\n</div>"
          },
          "metadata": {}
        }
      ],
      "execution_count": 130
    },
    {
      "cell_type": "markdown",
      "source": "### **User-Based Collaborative Filtering Recommender System**",
      "metadata": {
        "id": "fOXp00QSbtHk"
      }
    },
    {
      "cell_type": "markdown",
      "source": "#### **Objective**\nIn this task, you will implement a **user-based collaborative filtering** movie recommendation system using the **Movie dataset**. The goal is to recommend movies to a user based on the preferences of similar users.",
      "metadata": {
        "id": "FwKBZk5Sc7YA"
      }
    },
    {
      "cell_type": "markdown",
      "source": "##### **Step 1: Import Required Libraries**\nBefore starting, ensure you have the necessary libraries installed. Use the following imports:\n\n```python\nimport pandas as pd  # For handling data\nimport numpy as np   # For numerical computations\nfrom sklearn.metrics.pairwise import cosine_similarity  # For computing user similarity\n```",
      "metadata": {
        "id": "fZf-Nu2rdPHR"
      }
    },
    {
      "cell_type": "markdown",
      "source": "##### **Step 2: Compute User-User Similarity**\n- We will use **cosine similarity** to measure how similar each pair of users is based on their movie ratings.\n- Since `cosine_similarity` does not handle missing values (NaN), replace them with `0` before computation.",
      "metadata": {
        "id": "qzJNshMbdwyR"
      }
    },
    {
      "cell_type": "markdown",
      "source": "##### **Instructions:**\n1. Fill missing values with `0` using `.fillna(0)`.\n2. Compute similarity using `cosine_similarity()`.\n3. Convert the result into a **Pandas DataFrame**, with users as both row and column labels.\n\n##### **Hint:**  \nYou can achieve this using the following approach:\n\n```python\nuser_similarity = cosine_similarity(user_movie_matrix.fillna(0))\nuser_sim_df = pd.DataFrame(user_similarity, index=user_movie_matrix.index, columns=user_movie_matrix.index)\n```",
      "metadata": {
        "id": "pkO_XtPqd4Sw"
      }
    },
    {
      "cell_type": "markdown",
      "source": "##### **Step 3: Implement the Recommendation Function**\nNow, implement the function `recommend_movies_for_user(user_id, num=5)` to recommend movies for a given user.\n\n##### **Function Inputs:**\n- `user_id`: The target user for whom we need recommendations.\n- `num`: The number of movies to recommend (default is 5).\n\n##### **Function Steps:**\n1. Find **similar users**:\n   - Retrieve the similarity scores for the given `user_id`.\n   - Sort them in **descending** order (highest similarity first).\n   - Exclude the user themselves.\n   \n2. Get the **movie ratings** from these similar users.\n\n3. Compute the **average rating** for each movie based on these users' preferences.\n\n4. Sort the movies in **descending order** based on the computed average ratings.\n\n5. Retrieve the **top `num` recommended movies**.\n\n6. Map **movie IDs** to their **titles** using the `movies` DataFrame.\n\n7. Return the results as a **Pandas DataFrame** with rankings.",
      "metadata": {
        "id": "NtmluaSGeBE-"
      }
    },
    {
      "cell_type": "markdown",
      "source": "##### **Step 4: Return the Final Recommendation List**\nYour function should return a **DataFrame** structured as follows:\n\n| Ranking | Movie Name |\n|---------|-----------|\n| 1       | Movie A   |\n| 2       | Movie B   |\n| 3       | Movie C   |\n| 4       | Movie D   |\n| 5       | Movie E   |\n\n##### **Hint:** Your final DataFrame should be created like this:\n```python\nresult_df = pd.DataFrame({\n    'Ranking': range(1, num+1),\n    'Movie Name': movie_names     \n})\nresult_df.set_index('Ranking', inplace=True)\n```\n\n#### **Example: User-Based Collaborative Filtering**\n```python\nrecommend_movies_for_user(10, num = 5)\n```\n**Output:**\n```\n| Ranking | Movie Name                     |\n|---------|--------------------------------|\n| 1       | In the Company of Men (1997)   |\n| 2       | Misérables, Les (1995)         |\n| 3       | Thin Blue Line, The (1988)     |\n| 4       | Braindead (1992)               |\n| 5       | Boys, Les (1997)               |\n",
      "metadata": {
        "id": "SgO0zd8LeGJ_"
      }
    },
    {
      "cell_type": "code",
      "source": "import pandas as pd\nimport numpy as np\nfrom sklearn.metrics.pairwise import cosine_similarity\n\n#Used to name the movies\nmovies_df = pd.read_csv('movies.csv')\n\n#create user-movie rating matrix\nratings_matrix = ratings_df.pivot(index='user_id', columns='movie_id', values='rating')\n\n#handle missing values with 0\nratings_matrix_filled_0 = ratings_matrix.fillna(0)\n\n#compute cosine sim\nuser_similarity = cosine_similarity(ratings_matrix_filled_0)\n\n#convert user_similarity to df\nuser_sim_df = pd.DataFrame(user_similarity, index=ratings_matrix_filled_0.index, columns=ratings_matrix_filled_0.index)\n\ndef recommend_movies_for_user(user_id, num=5):\n    # Get similarity scores for user\n    user_similarities = user_sim_df[user_id]\n    \n    # Exclude user\n    user_similarities = user_similarities.drop(user_id)\n    \n    # Sort users by similarity score (highest similarity first)\n    similar_users = user_similarities.sort_values(ascending=False)\n    \n    # Get ratings of movies from most similar users\n    similar_user_ratings = ratings_matrix.loc[similar_users.index]\n    \n    # Compute average ratings of movies by similar users\n    avg_ratings = similar_user_ratings.mean(axis=0)\n    \n    # Sort movies by average rating (highest first)\n    recommended_movies = avg_ratings.sort_values(ascending=False).head(num)\n    \n    # Get movie names corresponding to movie_id\n    movie_names = recommended_movies.index  # This is still movie_id\n    \n    # Merge movies_df to get movie names\n    movie_name_df = movies_df[movies_df['movie_id'].isin(movie_names)][['movie_id', 'title']]\n    \n    # Map movie IDs to movie names\n    recommended_movies_df = pd.DataFrame({\n        'Ranking': range(1, num + 1),\n        'Movie Name': movie_name_df.set_index('movie_id').reindex(movie_names)['title'].values\n    })\n    recommended_movies_df.set_index('Ranking', inplace=True)\n    \n    return recommended_movies_df",
      "metadata": {
        "id": "rbENugJ5cUpo",
        "trusted": true
      },
      "outputs": [],
      "execution_count": 161
    },
    {
      "cell_type": "code",
      "source": "recommend_movies_for_user(10, num = 5)",
      "metadata": {
        "trusted": true
      },
      "outputs": [
        {
          "execution_count": 132,
          "output_type": "execute_result",
          "data": {
            "text/plain": "                                                Movie Name\nRanking                                                   \n1                                          Star Kid (1997)\n2                                Santa with Muscles (1996)\n3        Entertaining Angels: The Dorothy Day Story (1996)\n4                                       Prefontaine (1997)\n5               Marlene Dietrich: Shadow and Light (1996) ",
            "text/html": "<div>\n<style scoped>\n    .dataframe tbody tr th:only-of-type {\n        vertical-align: middle;\n    }\n\n    .dataframe tbody tr th {\n        vertical-align: top;\n    }\n\n    .dataframe thead th {\n        text-align: right;\n    }\n</style>\n<table border=\"1\" class=\"dataframe\">\n  <thead>\n    <tr style=\"text-align: right;\">\n      <th></th>\n      <th>Movie Name</th>\n    </tr>\n    <tr>\n      <th>Ranking</th>\n      <th></th>\n    </tr>\n  </thead>\n  <tbody>\n    <tr>\n      <th>1</th>\n      <td>Star Kid (1997)</td>\n    </tr>\n    <tr>\n      <th>2</th>\n      <td>Santa with Muscles (1996)</td>\n    </tr>\n    <tr>\n      <th>3</th>\n      <td>Entertaining Angels: The Dorothy Day Story (1996)</td>\n    </tr>\n    <tr>\n      <th>4</th>\n      <td>Prefontaine (1997)</td>\n    </tr>\n    <tr>\n      <th>5</th>\n      <td>Marlene Dietrich: Shadow and Light (1996)</td>\n    </tr>\n  </tbody>\n</table>\n</div>"
          },
          "metadata": {}
        }
      ],
      "execution_count": 132
    },
    {
      "cell_type": "markdown",
      "source": "### **Item-Based Collaborative Filtering Recommender System**",
      "metadata": {
        "id": "MIN3XqC0eUAu",
        "tags": [],
        "editable": true,
        "slideshow": {
          "slide_type": ""
        }
      }
    },
    {
      "cell_type": "markdown",
      "source": "#### **Objective**\nIn this task, you will implement an **item-based collaborative filtering** recommendation system using the **Movie dataset**. The goal is to recommend movies similar to a given movie based on user rating patterns.",
      "metadata": {
        "id": "ytqWK-4ze2aA"
      }
    },
    {
      "cell_type": "markdown",
      "source": "#### **Step 1: Import Required Libraries**\nAlthough we have done this part already in the previous task but just to emphasize the importance reiterrating this part.\n\nBefore starting, ensure you have the necessary libraries installed. Use the following imports:\n\n```python\nimport pandas as pd  # For handling data\nimport numpy as np   # For numerical computations\nfrom sklearn.metrics.pairwise import cosine_similarity  # For computing item similarity\n```",
      "metadata": {
        "id": "Q0-HuDvffY57"
      }
    },
    {
      "cell_type": "markdown",
      "source": "#### **Step 2: Compute Item-Item Similarity**\n- We will use **cosine similarity** to measure how similar each pair of movies is based on their user ratings.\n- Since `cosine_similarity` does not handle missing values (NaN), replace them with `0` before computation.\n- Unlike user-based filtering, we need to **transpose** (`.T`) the `user_movie_matrix` because we want similarity between movies (columns) instead of users (rows).\n\n##### **Instructions:**\n1. Transpose the user-movie matrix using `.T` to make movies the rows.\n2. Fill missing values with `0` using `.fillna(0)`.\n3. Compute similarity using `cosine_similarity()`.\n4. Convert the result into a **Pandas DataFrame**, with movies as both row and column labels.\n\n##### **Hint:**  \nYou can achieve this using the following approach:\n\n```python\nitem_similarity = cosine_similarity(user_movie_matrix.T.fillna(0))\nitem_sim_df = pd.DataFrame(item_similarity, index=user_movie_matrix.columns, columns=user_movie_matrix.columns)\n```",
      "metadata": {
        "id": "b9oy7pojf19r"
      }
    },
    {
      "cell_type": "markdown",
      "source": "#### **Step 3: Implement the Recommendation Function**\nNow, implement the function `recommend_movies(movie_name, num=5)` to recommend movies similar to a given movie.\n\n##### **Function Inputs:**\n- `movie_name`: The target movie for which we need recommendations.\n- `num`: The number of similar movies to recommend (default is 5).\n\n##### **Function Steps:**\n1. Find the **movie_id** corresponding to the given `movie_name` in the `movies` DataFrame.\n2. If the movie is not found, return an appropriate message.\n3. Extract the **similarity scores** for this movie from `item_sim_df`.\n4. Sort the movies in **descending order** based on similarity (excluding the movie itself).\n5. Retrieve the **top `num` similar movies**.\n6. Map **movie IDs** to their **titles** using the `movies` DataFrame.\n7. Return the results as a **Pandas DataFrame** with rankings.",
      "metadata": {
        "id": "L8k80idUgDWW"
      }
    },
    {
      "cell_type": "markdown",
      "source": "#### **Step 4: Return the Final Recommendation List**\nYour function should return a **DataFrame** structured as follows:\n\n| Ranking | Movie Name |\n|---------|-----------|\n| 1       | Movie A   |\n| 2       | Movie B   |\n| 3       | Movie C   |\n| 4       | Movie D   |\n| 5       | Movie E   |\n\n##### **Hint:** Your final DataFrame should be created like this:\n```python\nresult_df = pd.DataFrame({\n    'ranking': range(1, num+1),\n    'movie_name': movie_names\n})\nresult_df.set_index('ranking', inplace=True)\n```",
      "metadata": {
        "id": "kNRZQWQkgLPf"
      }
    },
    {
      "cell_type": "markdown",
      "source": "#### **Example: Item-Based Collaborative Filtering**\n```python\nrecommend_movies(\"Jurassic Park (1993)\", num=5)\n```\n**Output:**\n```\n| Ranking | Movie Name                               |\n|---------|------------------------------------------|\n| 1       | Top Gun (1986)                           |\n| 2       | Empire Strikes Back, The (1980)          |\n| 3       | Raiders of the Lost Ark (1981)           |\n| 4       | Indiana Jones and the Last Crusade (1989)|\n| 5       | Speed (1994)                             |\n",
      "metadata": {
        "id": "h-EEF0Q1gd9N"
      }
    },
    {
      "cell_type": "code",
      "source": "# Code the function here\nimport pandas as pd\nimport numpy as np\nfrom sklearn.metrics.pairwise import cosine_similarity\n\nitem_similarity = cosine_similarity(ratings_matrix.T.fillna(0))\n\n# Create the item-item similarity DataFrame\nitem_sim_df = pd.DataFrame(item_similarity, index=ratings_matrix.columns, columns=ratings_matrix.columns)\n\ndef recommend_movies(movie_name, num=5):\n    #Find the movie_id corresponding to the movie_name\n    movie_id = movies[movies['title'] == movie_name].movie_id.values\n    if len(movie_id) == 0:\n        return f\"Movie '{movie_name}' not found in the dataset.\"\n\n    movie_id = movie_id[0]\n\n    #Extract similarity scores\n    similarity_scores = item_sim_df[movie_id]\n\n    # Sort the movies by similarity\n    sorted_similarity = similarity_scores.sort_values(ascending=False)\n    sorted_similarity = sorted_similarity.drop(movie_id)  # Exclude the movie itself\n\n    #Get top similar movies\n    top_movies = sorted_similarity.head(num)\n\n    # Map movie_ids to movie titles\n    top_movie_titles = movies[movies['movie_id'].isin(top_movies.index)]['title']\n\n    # Create DataFrame\n    result_df = pd.DataFrame({\n        'ranking': range(1, num + 1),\n        'movie_name': top_movie_titles\n    })\n\n    # Set the ranking as the index\n    result_df.set_index('ranking', inplace=True)\n\n    return result_df\n",
      "metadata": {
        "id": "l1K79akTebWa",
        "trusted": true
      },
      "outputs": [],
      "execution_count": 160
    },
    {
      "cell_type": "code",
      "source": "recommend_movies(\"Jurassic Park (1993)\", num=5)",
      "metadata": {
        "trusted": true
      },
      "outputs": [
        {
          "execution_count": 134,
          "output_type": "execute_result",
          "data": {
            "text/plain": "                                        movie_name\nranking                                           \n1                                   Top Gun (1986)\n2                  Empire Strikes Back, The (1980)\n3                   Raiders of the Lost Ark (1981)\n4        Indiana Jones and the Last Crusade (1989)\n5                                     Speed (1994)",
            "text/html": "<div>\n<style scoped>\n    .dataframe tbody tr th:only-of-type {\n        vertical-align: middle;\n    }\n\n    .dataframe tbody tr th {\n        vertical-align: top;\n    }\n\n    .dataframe thead th {\n        text-align: right;\n    }\n</style>\n<table border=\"1\" class=\"dataframe\">\n  <thead>\n    <tr style=\"text-align: right;\">\n      <th></th>\n      <th>movie_name</th>\n    </tr>\n    <tr>\n      <th>ranking</th>\n      <th></th>\n    </tr>\n  </thead>\n  <tbody>\n    <tr>\n      <th>1</th>\n      <td>Top Gun (1986)</td>\n    </tr>\n    <tr>\n      <th>2</th>\n      <td>Empire Strikes Back, The (1980)</td>\n    </tr>\n    <tr>\n      <th>3</th>\n      <td>Raiders of the Lost Ark (1981)</td>\n    </tr>\n    <tr>\n      <th>4</th>\n      <td>Indiana Jones and the Last Crusade (1989)</td>\n    </tr>\n    <tr>\n      <th>5</th>\n      <td>Speed (1994)</td>\n    </tr>\n  </tbody>\n</table>\n</div>"
          },
          "metadata": {}
        }
      ],
      "execution_count": 134
    },
    {
      "cell_type": "markdown",
      "source": "## **Part 3: Graph-Based Recommender (Pixie-Inspired Algorithm)**",
      "metadata": {
        "id": "YhZXLz7Rh_VC"
      }
    },
    {
      "cell_type": "markdown",
      "source": "### **Adjacency List**",
      "metadata": {
        "id": "u_YceL18lWlN"
      }
    },
    {
      "cell_type": "markdown",
      "source": "#### **Objective**\nIn this task, you will preprocess the Movie dataset and construct a **graph representation** where:\n- **Users** are connected to the movies they have rated.\n- **Movies** are connected to users who have rated them.\n  \nThis graph structure will help in exploring **user-movie relationships** for recommendations.",
      "metadata": {
        "id": "CFF1tUDsipIX"
      }
    },
    {
      "cell_type": "markdown",
      "source": "#### **Step 1: Merge Ratings with Movie Titles**\nSince we have **movie IDs** in the ratings dataset but need human-readable movie titles, we will:\n1. Merge the `ratings` DataFrame with the `movies` DataFrame using the `'movie_id'` column.\n2. This allows each rating to be associated with a **movie title**.\n\n#### **Hint:**\nUse the following Pandas operation to merge:\n```python\nratings = ratings.merge(movies, on='movie_id')\n```",
      "metadata": {
        "id": "-3OPInjhkUzy"
      }
    },
    {
      "cell_type": "markdown",
      "source": "\n#### **Step 2: Aggregate Ratings**\nSince multiple users may rate the same movie multiple times, we:\n1. Group the dataset by `['user_id', 'movie_id', 'title']`.\n2. Compute the **mean rating** for each movie by each user.\n3. Reset the index to ensure we maintain a clean DataFrame structure.\n\n#### **Hint:**  \nUse `groupby()` and `mean()` as follows:\n```python\nratings = ratings.groupby(['user_id', 'movie_id', 'title'])['rating'].mean().reset_index()\n```",
      "metadata": {
        "id": "3OPUXyNVkfHr"
      }
    },
    {
      "cell_type": "markdown",
      "source": "#### **Step 3: Normalize Ratings**\nSince different users have different rating biases, we normalize ratings by:\n1. **Computing each user's mean rating**.\n2. **Subtracting the mean rating** from each individual rating.\n\n#### **Instructions:**\n- Use `groupby('user_id')` to group ratings by users.\n- Apply `transform(lambda x: x - x.mean())` to adjust ratings.\n\n#### **Hint:**  \nNormalize ratings using:\n```python\nratings['rating'] = ratings.groupby('user_id')['rating'].transform(lambda x: x - x.mean())\n```\nThis ensures each user’s ratings are centered around zero, making similarity calculations fairer.",
      "metadata": {
        "id": "NU1fB66WkqEO"
      }
    },
    {
      "cell_type": "markdown",
      "source": "#### **Step 4: Construct the Graph Representation**\nWe represent the user-movie interactions as an **undirected graph** using an **adjacency list**:\n- Each **user** is a node connected to movies they rated.\n- Each **movie** is a node connected to users who rated it.\n\n#### **Graph Construction Steps:**\n1. Initialize an empty dictionary `graph = {}`.\n2. Iterate through the **ratings dataset**.\n3. For each `user_id` and `movie_id` pair:\n   - Add the movie to the user’s set of connections.\n   - Add the user to the movie’s set of connections.\n\n#### **Hint:**  \nThe following code builds the graph:\n\n```python\ngraph = {}\nfor _, row in ratings.iterrows():\n    user, movie = row['user_id'], row['movie_id']\n    if user not in graph:\n        graph[user] = set()\n    if movie not in graph:\n        graph[movie] = set()\n    graph[user].add(movie)\n    graph[movie].add(user)\n```\n\nThis results in a **bipartite graph**, where:\n- **Users** are connected to multiple movies.\n- **Movies** are connected to multiple users.",
      "metadata": {
        "id": "79NB8zIWkvWP"
      }
    },
    {
      "cell_type": "markdown",
      "source": "#### **Step 5: Understanding the Graph**\n- **Nodes** in the graph represent **users and movies**.\n- **Edges** exist between a user and a movie **if the user has rated the movie**.\n- This structure allows us to find **users with similar movie tastes** and **movies frequently watched together**.\n\n#### **Exploring the Graph**\n- **Find a user’s rated movies:**  \n  ```python\n  user_id = 1\n  print(graph[user_id])  # Movies rated by user 1\n  ```\n\n- **Find users who rated a movie:**  \n  ```python\n  movie_id = 50\n  print(graph[movie_id])  # Users who rated movie 50\n  ```",
      "metadata": {
        "id": "wEuVgjAAk4KV"
      }
    },
    {
      "cell_type": "code",
      "source": "# Merge ratings with movie titles\nratings = ratings_df.merge(movies_df, on='movie_id')\n\n# Aggregate Ratings\nratings = ratings.groupby(['user_id', 'movie_id', 'title'])['rating'].mean().reset_index()\n\ngraph = {}\n\nfor _, row in ratings.iterrows():\n    user_node = f\"u{row['user_id']}\"  # 'u' prefix for users\n    movie_node = f\"m{row['movie_id']}\"  # 'm' prefix for movies\n    \n    # Add to user's movies\n    if user_node not in graph:\n        graph[user_node] = set()\n    graph[user_node].add(movie_node)\n    \n    # Add to movie's users\n    if movie_node not in graph:\n        graph[movie_node] = set()\n    graph[movie_node].add(user_node)\n\n# Explore Graph\nuser_id = 6\nuser_node = f\"u{user_id}\"\nif user_node in graph:\n    print(f\"Movies rated by user {user_id}: {graph[user_node]}\")\nelse:\n    print(f\"User {user_id} not found\")\n\nmovie_id = 242\nmovie_node = f\"m{movie_id}\"\nif movie_node in graph:\n    print(f\"Users who rated movie {movie_id}: {graph[movie_node]}\")\nelse:\n    print(f\"Movie {movie_id} not found\")",
      "metadata": {
        "id": "b4V2aL4DiMM4",
        "trusted": true,
        "tags": [],
        "editable": true,
        "slideshow": {
          "slide_type": ""
        }
      },
      "outputs": [
        {
          "name": "stdout",
          "output_type": "stream",
          "text": "Movies rated by user 6: {'m170', 'm173', 'm174', 'm175', 'm177', 'm178', 'm501', 'm500', 'm468', 'm469', 'm502', 'm503', 'm504', 'm505', 'm462', 'm463', 'm460', 'm461', 'm466', 'm467', 'm464', 'm465', 'm506', 'm508', 'm189', 'm188', 'm261', 'm185', 'm187', 'm186', 'm268', 'm180', 'm183', 'm182', 'm269', 'm28', 'm21', 'm23', 'm22', 'm518', 'm519', 'm516', 'm517', 'm514', 'm515', 'm512', 'm513', 'm510', 'm507', 'm511', 'm100', 'm509', 'm340', 'm459', 'm458', 'm211', 'm213', 'm199', 'm216', 'm192', 'm193', 'm191', 'm197', 'm194', 'm195', 'm12', 'm13', 'm14', 'm15', 'm19', 'm156', 'm408', 'm154', 'm153', 'm151', 'm405', 'm248', 'm367', 'm47', 'm242', 'm246', 'm480', 'm481', 'm482', 'm483', 'm484', 'm485', 'm486', 'm487', 'm488', 'm489', 'm166', 'm165', 'm169', 'm168', 'm479', 'm478', 'm475', 'm474', 'm477', 'm476', 'm471', 'm470', 'm473', 'm472', 'm276', 'm275', 'm274', 'm272', 'm32', 'm134', 'm135', 'm136', 'm137', 'm425', 'm131', 'm132', 'm133', 'm423', 'm427', 'm238', 'm237', 'm69', 'm306', 'm304', 'm303', 'm302', 'm301', 'm64', 'm309', 'm308', 'm536', 'm419', 'm143', 'm410', 'm221', 'm223', 'm317', 'm259', 'm59', 'm258', 'm310', 'm56', 'm257', 'm50', 'm318', 'm493', 'm492', 'm491', 'm490', 'm497', 'm496', 'm495', 'm494', 'm499', 'm498', 'm298', 'm529', 'm528', 'm523', 'm522', 'm293', 'm520', 'm521', 'm294', 'm297', 'm524', 'm98', 'm525', 'm526', 'm111', 'm527', 'm117', 'm95', 'm357', 'm321', 'm286', 'm538', 'm8', 'm9', 'm284', 'm285', 'm539', 'm127', 'm530', 'm125', 'm1', 'm124', 'm7', 'm531', 'm532', 'm533', 'm534', 'm89', 'm432', 'm435', 'm535', 'm208', 'm209', 'm537', 'm81', 'm204', 'm87', 'm86', 'm200', 'm202', 'm203', 'm205', 'm70', 'm71', 'm79'}\nUsers who rated movie 242: {'u86', 'u485', 'u486', 'u765', 'u767', 'u894', 'u568', 'u408', 'u566', 'u641', 'u898', 'u473', 'u360', 'u173', 'u240', 'u249', 'u771', 'u673', 'u675', 'u574', 'u234', 'u239', 'u707', 'u331', 'u145', 'u144', 'u845', 'u21', 'u628', 'u624', 'u428', 'u90', 'u309', 'u226', 'u306', 'u154', 'u305', 'u492', 'u497', 'u937', 'u18', 'u12', 'u13', 'u14', 'u417', 'u416', 'u794', 'u651', 'u655', 'u354', 'u355', 'u721', 'u720', 'u866', 'u123', 'u724', 'u863', 'u861', 'u680', 'u129', 'u869', 'u40', 'u523', 'u520', 'u440', 'u206', 'u207', 'u204', 'u205', 'u202', 'u201', 'u735', 'u733', 'u209', 'u131', 'u139', 'u439', 'u30', 'u532', 'u533', 'u34', 'u35', 'u537', 'u539', 'u639', 'u463', 'u460', 'u461', 'u181', 'u279', 'u271', 'u270', 'u2', 'u1', 'u6', 'u743', 'u740', 'u9', 'u803', 'u63', 'u500', 'u617', 'u196', 'u195', 'u597', 'u594', 'u199', 'u592', 'u753', 'u695', 'u113', 'u697', 'u111', 'u758', 'u871', 'u296', 'u451'}\n"
        }
      ],
      "execution_count": 162
    },
    {
      "cell_type": "markdown",
      "source": "### **Implement Weighted Random Walks**",
      "metadata": {
        "id": "_ZE31gB7lImI",
        "tags": [],
        "editable": true,
        "slideshow": {
          "slide_type": ""
        }
      }
    },
    {
      "cell_type": "markdown",
      "source": "#### **Random Walk-Based Movie Recommendation System (Weighted Pixie)**",
      "metadata": {
        "id": "yHe42rlJl9kD"
      }
    },
    {
      "cell_type": "markdown",
      "source": "#### **Objective**\nIn this task, you will implement a **random-walk-based recommendation algorithm** using the **Weighted Pixie** method. This technique uses a **user-movie bipartite graph** to recommend movies by simulating a random walk from a given user or movie.",
      "metadata": {
        "id": "jyqptwreo-IP"
      }
    },
    {
      "cell_type": "markdown",
      "source": "#### **Step 1: Import Required Libraries**\nMake sure you have the necessary libraries:\n\n```python\nimport random  # For random walks\nimport pandas as pd  # For handling data\n```",
      "metadata": {
        "id": "jFgyzzdCpfzu"
      }
    },
    {
      "cell_type": "markdown",
      "source": "#### **Step 2: Implement the Random Walk Algorithm**\nYour task is to **simulate a random walk** from a given starting point in the **bipartite user-movie graph**.\n\n##### **Hints for Implementation**\n- Start from **either a user or a movie**.\n- At each step, **randomly move** to a connected node.\n- Keep track of **how many times each movie is visited**.\n- After completing the walk, **rank movies by visit count**.",
      "metadata": {
        "id": "_FVGjhl0ppFK"
      }
    },
    {
      "cell_type": "markdown",
      "source": "#### **Step 3: Implement User-Based Recommendation**\n**Hints:**\n- Check if the `user_id` exists in the `graph`.\n- Start a loop that runs for `walk_length` steps.\n- Randomly pick a **connected node** (user or movie).\n- Track how many times each **movie** is visited.\n- Sort movies by visit frequency and return the **top N**.\n\n#### **Step 4: Implement Movie-Based Recommendation**\n**Hints:**\n- Find the `movie_id` corresponding to the given `movie_name`.\n- Ensure the movie exists in the `graph`.\n- Start a random walk from that movie.\n- Follow the same **tracking and ranking** process as the user-based version.\n\n**Note:**  \n**Your task:** Implement a function `weighted_pixie_recommend(user_id, walk_length=15, num=5)` or `weighted_pixie_recommend(movie_name, walk_length=15, num=5)`.  \n**Implement either Step 3 or Step 4.**",
      "metadata": {
        "id": "E7D7Pj6trss9"
      }
    },
    {
      "cell_type": "markdown",
      "source": "#### **Step 5: Running Your Recommendation System**\nOnce your function is implemented, test it by calling:\n\n##### **Example: User-Based Recommendation**\n```python\nweighted_pixie_recommend(1, walk_length=15, num=5)\n```\n| Ranking | Movie Name                     |\n|---------|--------------------------------|\n| 1       | My Own Private Idaho (1991)   |\n| 2       | Aladdin (1992)                |\n| 3       | 12 Angry Men (1957)           |\n| 4       | Happy Gilmore (1996)          |\n| 5       | Copycat (1995)                |\n\n\n##### **Example: Movie-Based Recommendation**\n```python\nweighted_pixie_recommend(\"Jurassic Park (1993)\", walk_length=10, num=5)\n```\n| Ranking | Movie Name                           |\n|---------|-------------------------------------|\n| 1       | Rear Window (1954)                 |\n| 2       | Great Dictator, The (1940)         |\n| 3       | Field of Dreams (1989)             |\n| 4       | Casablanca (1942)                  |\n| 5       | Nightmare Before Christmas, The (1993) |\n",
      "metadata": {
        "id": "qxN_ibCCrCpx"
      }
    },
    {
      "cell_type": "markdown",
      "source": "#### **Step 6: Understanding the Results**\nYour function should return a **DataFrame** structured as follows:\n\n| Ranking | Movie Name |\n|---------|-----------|\n| 1       | Movie A   |\n| 2       | Movie B   |\n| 3       | Movie C   |\n| 4       | Movie D   |\n| 5       | Movie E   |\n\nEach movie is ranked based on **how frequently it was visited** during the walk.\n\n#### **Experiment with Different Parameters**\n- Try different **`walk_length`** values and observe how it changes recommendations.\n- Adjust the number of recommended movies (`num`).",
      "metadata": {
        "id": "ZpUH9IzVr5aQ"
      }
    },
    {
      "cell_type": "code",
      "source": "import random\n\n# Merge ratings with movie titles\nratings = ratings_df.merge(movies_df, on='movie_id')\n\n# Aggregate Ratings\nratings = ratings.groupby(['user_id', 'movie_id', 'title'])['rating'].mean().reset_index()\n\n# Initialize graph\ngraph = {}\n\n# Build graph with users and movies\nfor _, row in ratings.iterrows():\n    user, movie = row['user_id'], row['movie_id']\n    \n    # Ensure the user is in the graph\n    if user not in graph:\n        graph[user] = set()\n    # Ensure the movie is in the graph\n    if movie not in graph:\n        graph[movie] = set()\n    \n    # Add the movie to the user's set\n    graph[user].add(movie)\n    # Add the user to the movie's set\n    graph[movie].add(user)\n    \n#Implement the Random Walk Algorithm\ndef weighted_pixie_recommend(user_id=None, movie_name=None, walk_length=15, num=5):\n    # Find the movie_id corresponding to the movie_name\n    if movie_name:\n        movie_id = movies_df[movies_df['title'] == movie_name]['movie_id'].values[0]\n    else:\n        movie_id = None\n    \n    # Initialize visit counts\n    movie_visits = {}\n    \n    # Start the random walk\n    if user_id:\n        if user_id not in graph:\n            return f\"User {user_id} does not exist in the graph.\"\n        current_node = user_id\n    elif movie_id:\n        if movie_id not in graph:\n            return f\"Movie {movie_id} does not exist in the graph.\"\n        current_node = movie_id\n    else:\n        return \"Please provide either a user_id or a movie_name\"\n    \n    # Perform the random walk\n    for _ in range(walk_length):\n        # Get neighbors\n        neighbors = list(graph[current_node])\n        \n        # Randomly pick the next node\n        next_node = random.choice(neighbors)\n        \n        # If land on movie, count it\n        if isinstance(next_node, int):\n            if next_node not in movie_visits:\n                movie_visits[next_node] = 0\n            movie_visits[next_node] += 1\n        \n        # Move to next node\n        current_node = next_node\n    \n    # Sort movies by visit count (descending)\n    sorted_movies = sorted(movie_visits.items(), key=lambda x: x[1], reverse=True)\n    \n    # Get the top movies\n    top_movies = sorted_movies[:num]\n    \n    # Create the final DataFrame\n    recommended_movies = []\n    for rank, (movie_id, visit_count) in enumerate(top_movies, start=1):\n        movie_name = movies_df[movies_df['movie_id'] == movie_id]['title'].values[0]\n        recommended_movies.append({\"Ranking\": rank,\"Movie Name\": movie_name})\n    \n    # Return DataFrame\n    return pd.DataFrame(recommended_movies)\n\n# Examples\n# User-based recommendation\nuser_id = 1\nprint(weighted_pixie_recommend(1, walk_length=15, num=5))\n\n# Movie-based recommendation\nmovie_name = \"Jurassic Park (1993)\"\nprint(weighted_pixie_recommend(movie_name=movie_name, walk_length=10, num=5))\n",
      "metadata": {
        "id": "tZD5fjG-lx3b",
        "trusted": true
      },
      "outputs": [
        {
          "name": "stdout",
          "output_type": "stream",
          "text": "   Ranking                                         Movie Name\n0        1                So I Married an Axe Murderer (1993)\n1        2             Good, The Bad and The Ugly, The (1966)\n2        3  Paradise Lost: The Child Murders at Robin Hood...\n3        4                                  Abyss, The (1989)\n4        5                          Courage Under Fire (1996)\n   Ranking                              Movie Name\n0        1                   Vegas Vacation (1997)\n1        2                        G.I. Jane (1997)\n2        3  Nightmare Before Christmas, The (1993)\n3        4             Sweet Hereafter, The (1997)\n4        5     Truth About Cats & Dogs, The (1996)\n"
        }
      ],
      "execution_count": 163
    },
    {
      "cell_type": "markdown",
      "source": "---",
      "metadata": {
        "id": "Q36Y2C7PxWO0"
      }
    },
    {
      "cell_type": "markdown",
      "source": "## **Submission Requirements:**",
      "metadata": {
        "id": "9iKlQlvBtiGe"
      }
    },
    {
      "cell_type": "markdown",
      "source": "To successfully complete this assignment, ensure that you submit the following:\n\n\n### **1. Jupyter Notebook Submission**\n- Submit a **fully completed Jupyter Notebook** that includes:\n  - **All implemented recommendation functions** (user-based, item-based, and random walk-based recommendations).\n  - **Code explanations** in markdown cells to describe each step.\n  - **Results and insights** from running your recommendation models.\n\n\n### **2. Explanation of Pixie-Inspired Algorithms (3-5 Paragraphs)**\n- Write a **detailed explanation** of **Pixie-inspired random walk algorithms** used for recommendations.\n- Your explanation should cover:\n  - What **Pixie-inspired recommendation systems** are.\n  - How **random walks** help in identifying relevant recommendations.\n  - Any real-world applications of such algorithms in industry.\n\n\n### **3. Report for the Submitted Notebook**\nYour report should be structured as follows:\n\n#### **Title: Movie Recommendation System Report**\n\n#### **1. Introduction**\n- Briefly introduce **movie recommendation systems** and why they are important.\n- Explain the **different approaches used** (user-based, item-based, random-walk).\n\n#### **2. Dataset Description**\n- Describe the **MovieLens 100K dataset**:\n  - Number of users, movies, and ratings.\n  - What features were used.\n  - Any preprocessing performed.\n\n#### **3. Methodology**\n- Explain the three recommendation techniques implemented:\n  - **User-based collaborative filtering** (how user similarity was calculated).\n  - **Item-based collaborative filtering** (how item similarity was determined).\n  - **Random-walk-based Pixie algorithm** (why graph-based approaches are effective).\n  \n#### **4. Implementation Details**\n- Discuss the steps taken to build the functions.\n- Describe how the **adjacency list graph** was created.\n- Explain how **random walks** were performed and how visited movies were ranked.\n\n#### **5. Results and Evaluation**\n- Present **example outputs** from each recommendation approach.\n- Compare the different methods in terms of accuracy and usefulness.\n- Discuss any **limitations** in the implementation.\n\n#### **6. Conclusion**\n- Summarize the key takeaways from the project.\n- Discuss potential improvements (e.g., **hybrid models, additional features**).\n- Suggest real-world applications of the methods used.",
      "metadata": {
        "id": "NHGGedZexPs0"
      }
    },
    {
      "cell_type": "markdown",
      "source": "### **Submission Instructions**",
      "metadata": {
        "id": "NWgT_Shy-vUK"
      }
    },
    {
      "cell_type": "markdown",
      "source": "- Submit `.zip` file consisting of Jupyter Notebook and all the datafiles (provided) and the ones saved [i.e. `users.csv`, `movies.csv` and `ratings.csv`]. Also, include the Report and Pixie Algorithm explanation document.\n- [`Bonus 10 Points`] **Upload your Jupyter Notebook, Explanation Document, and Report** to your GitHub repository.\n- Ensure the repository is public and contains:\n  - `users.csv`, `movies.csv` and `ratings.csv` [These are the Dataframes which were created in part 1. Save and export them as a `.csv` file]\n  - `Movie_Recommendation.ipynb`\n  - `Pixie_Algorithm_Explanation.pdf` or `.md`\n  - `Recommendation_Report.pdf` or `.md`\n- **Submit the GitHub repository link in the cell below.**\n\n\n#### **Example Submission Format**\n```text\nGitHub Repository: https://github.com/username/Movie-Recommendation\n```",
      "metadata": {
        "id": "Nuz1s-Vh_L55"
      }
    },
    {
      "cell_type": "code",
      "source": "# Submit the Github Link here: https://github.com/mmercad4/Movie-Recommendation",
      "metadata": {
        "id": "jol9nRDau6fZ",
        "trusted": true
      },
      "outputs": [],
      "execution_count": 3
    },
    {
      "cell_type": "markdown",
      "source": "### **Grading Rubric: ITCS 6162 - Data Mining Assignment**",
      "metadata": {
        "id": "oQ6aluK-0ZMa"
      }
    },
    {
      "cell_type": "markdown",
      "source": "\n| **Category**                              | **Criteria**                                                     | **Points** |\n|-------------------------------------------|----------------------------------------------------------------|------------|\n| **Part 1: Exploring and Cleaning Data (15 pts)**  | Properly loads `u.user`, `u.movies`, and `u.item` datasets into DataFrames | 5 |\n|                                           | Handles missing values, duplicates, and inconsistencies appropriately | 5 |\n|                                           | Saves the cleaned datasets into CSV files: `users.csv`, `movies.csv`, `ratings.csv` | 5 |\n| **Part 2: Collaborative Filtering-Based Recommendation (30 pts)** | Implements user-based collaborative filtering correctly | 10 |\n|                                           | Implements item-based collaborative filtering correctly | 10 |\n|                                           | Computes similarity measures accurately and provides valid recommendations | 10 |\n| **Part 3: Graph-Based Recommender (Pixie-Inspired Algorithm) (35 pts)** | Constructs adjacency lists properly from user-movie interactions | 10 |\n|                                           | Implements weighted random walk-based recommendation correctly | 15 |\n|                                           | Explains and justifies the algorithm design choices (Pixie-inspired) | 10 |\n| **Code Quality & Documentation (10 pts)** | Code is well-structured, efficient, and follows best practices | 5 |\n|                                           | Markdown explanations and comments are clear and enhance understanding | 5 |\n| **Results & Interpretation (5 pts)**      | Provides meaningful insights from the recommendation system's output | 5 |\n| **Submission & Report (5 pts)**          | Submits all required files in the correct format (ZIP file with Jupyter notebook, processed CSV files, and project report) | 5 |\n| **Total**                                 |                              | 100 |\n\n#### **Bonus (10 pts)**\n| **Category**                              | **Criteria**                                                     | **Points** |\n|-------------------------------------------|----------------------------------------------------------------|------------|\n| **GitHub Submission**                     | Provides a well-documented GitHub repository with CSV files, a structured README, and a properly formatted Jupyter Notebook | 10 |",
      "metadata": {
        "id": "sNAfeIzA_fCq"
      }
    },
    {
      "cell_type": "code",
      "source": "",
      "metadata": {
        "trusted": true
      },
      "outputs": [],
      "execution_count": null
    }
  ]
}